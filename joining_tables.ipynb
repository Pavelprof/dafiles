{
 "cells": [
  {
   "cell_type": "code",
   "execution_count": 2,
   "id": "373df003",
   "metadata": {},
   "outputs": [],
   "source": [
    "import pandas as pd\n"
   ]
  },
  {
   "cell_type": "code",
   "execution_count": 5,
   "id": "8c168d47",
   "metadata": {},
   "outputs": [
    {
     "name": "stdout",
     "output_type": "stream",
     "text": [
      "   id_x  account  deal  position asset_transaction  quantity_transaction  \\\n",
      "0   NaN        2   NaN       NaN                2P                  60.0   \n",
      "1   NaN        1   NaN       NaN              AAPL                   1.0   \n",
      "2   NaN        1   NaN       NaN               ABT                   1.0   \n",
      "3   NaN        4   NaN       NaN               ADA                 180.2   \n",
      "4   NaN        2   NaN       NaN              AFKS                 500.0   \n",
      "\n",
      "   type_transaction  time_transaction  created  updated    id_y ticker  \\\n",
      "0                 1               NaN      NaN      NaN     NaN    NaN   \n",
      "1                 1               NaN      NaN      NaN     NaN    NaN   \n",
      "2                 1               NaN      NaN      NaN     NaN    NaN   \n",
      "3                 1               NaN      NaN      NaN     NaN    NaN   \n",
      "4                 1               NaN      NaN      NaN  5561.0   AFKS   \n",
      "\n",
      "           isin type_asset is_tradable  currency_influence_id figi  \n",
      "0           NaN        NaN         NaN                    NaN  NaN  \n",
      "1           NaN        NaN         NaN                    NaN  NaN  \n",
      "2           NaN        NaN         NaN                    NaN  NaN  \n",
      "3           NaN        NaN         NaN                    NaN  NaN  \n",
      "4  RU000A0DQZE3         SE        True                    1.0  NaN  \n"
     ]
    }
   ],
   "source": [
    "# Загрузка данных из Excel-файла в две таблицы\n",
    "df_import = pd.read_excel(r'C:\\Users\\Павел\\Desktop\\import22.xlsx', sheet_name='import')\n",
    "df_dict = pd.read_excel(r'C:\\Users\\Павел\\Desktop\\import22.xlsx', sheet_name='dict')\n",
    "\n",
    "# Осуществление JOIN по столбцам asset_transaction и ticker\n",
    "merged_df = pd.merge(df_import, df_dict, left_on='asset_transaction', right_on='ticker', how='left')\n",
    "\n",
    "# Сохранение результата в новую таблицу\n",
    "merged_df.to_excel(r'C:\\Users\\Павел\\Desktop\\merged_data.xlsx', index=False)\n",
    "\n",
    "# Вывод первых 5 строк объединенной таблицы для проверки результата\n",
    "print(merged_df.head())"
   ]
  },
  {
   "cell_type": "code",
   "execution_count": null,
   "id": "4027b1ee",
   "metadata": {},
   "outputs": [],
   "source": []
  }
 ],
 "metadata": {
  "kernelspec": {
   "display_name": "Python 3 (ipykernel)",
   "language": "python",
   "name": "python3"
  },
  "language_info": {
   "codemirror_mode": {
    "name": "ipython",
    "version": 3
   },
   "file_extension": ".py",
   "mimetype": "text/x-python",
   "name": "python",
   "nbconvert_exporter": "python",
   "pygments_lexer": "ipython3",
   "version": "3.9.13"
  }
 },
 "nbformat": 4,
 "nbformat_minor": 5
}
