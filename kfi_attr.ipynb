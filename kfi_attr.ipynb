{
 "cells": [
  {
   "cell_type": "code",
   "execution_count": 13,
   "id": "0a549fd1",
   "metadata": {},
   "outputs": [],
   "source": [
    "# получаем данные\n",
    "\n",
    "import pandas as pd\n",
    "\n",
    "file_path = r'C:\\Users\\Павел\\Desktop\\Список полей для внесения в КФИ.xlsx'\n",
    "\n",
    "data = pd.read_excel(file_path)"
   ]
  },
  {
   "cell_type": "code",
   "execution_count": 17,
   "id": "de2edaa1",
   "metadata": {},
   "outputs": [
    {
     "name": "stdout",
     "output_type": "stream",
     "text": [
      "Всего атрибутов: 57\n",
      "Аттрибуты в ППРБ DCM с обязательной логикой: 37\n",
      "Аттрибуты в ППРБ DCM с НЕ обязательной логикой: 10\n",
      "Аттрибуты которых нет в ППРБ DCM, но есть в QUIK: 9\n",
      "Аттрибуты которых нет в ППРБ DCM, и нет в QUIK: 1\n"
     ]
    }
   ],
   "source": [
    "# всего атрибутов\n",
    "\n",
    "attributes = data.shape[0]\n",
    "print(\"Всего атрибутов:\", attributes)\n",
    "\n",
    "# Аттрибуты в ППРБ DCM с обязательной логикой\n",
    "filtered_data = data[(data['Имя поле БД ППРБ DCM'].notnull()) & (data['Обязательность для создания в КФИ'] == 'Обязательно')]\n",
    "количество_строк = filtered_data.shape[0]\n",
    "print(\"Аттрибуты в ППРБ DCM с обязательной логикой:\", количество_строк)\n",
    "\n",
    "# Аттрибуты в ППРБ DCM с НЕ обязательной логикой\n",
    "filtered_data = data[(data['Имя поле БД ППРБ DCM'].notnull()) & (data['Обязательность для создания в КФИ'] == 'Не обязательно')]\n",
    "количество_строк = filtered_data.shape[0]\n",
    "print(\"Аттрибуты в ППРБ DCM с НЕ обязательной логикой:\", количество_строк)\n",
    "\n",
    "# Аттрибуты которых нет в ППРБ DCM, но есть в QUIK\n",
    "filtered_data = data[(data['Имя поле БД ППРБ DCM'].isnull()) & (data['Имя поля в квик'].notnull())]\n",
    "количество_строк = filtered_data.shape[0]\n",
    "print(\"Аттрибуты которых нет в ППРБ DCM, но есть в QUIK:\", количество_строк)\n",
    "\n",
    "# Аттрибуты которых нет в ППРБ DCM, и нет в QUIK\n",
    "filtered_data = data[(data['Имя поле БД ППРБ DCM'].isnull()) & (data['Имя поля в квик'].isnull()) & (data['Имя в КФИ (указал не по всем!)'].notnull())]\n",
    "количество_строк = filtered_data.shape[0]\n",
    "print(\"Аттрибуты которых нет в ППРБ DCM, и нет в QUIK:\", количество_строк)"
   ]
  }
 ],
 "metadata": {
  "kernelspec": {
   "display_name": "Python 3 (ipykernel)",
   "language": "python",
   "name": "python3"
  },
  "language_info": {
   "codemirror_mode": {
    "name": "ipython",
    "version": 3
   },
   "file_extension": ".py",
   "mimetype": "text/x-python",
   "name": "python",
   "nbconvert_exporter": "python",
   "pygments_lexer": "ipython3",
   "version": "3.9.13"
  }
 },
 "nbformat": 4,
 "nbformat_minor": 5
}
